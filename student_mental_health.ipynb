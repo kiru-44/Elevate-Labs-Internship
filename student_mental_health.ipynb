{
  "nbformat": 4,
  "nbformat_minor": 0,
  "metadata": {
    "colab": {
      "provenance": [],
      "authorship_tag": "ABX9TyMVbCC/Gl7TCLu9VNPAJQU6",
      "include_colab_link": true
    },
    "kernelspec": {
      "name": "python3",
      "display_name": "Python 3"
    },
    "language_info": {
      "name": "python"
    }
  },
  "cells": [
    {
      "cell_type": "markdown",
      "metadata": {
        "id": "view-in-github",
        "colab_type": "text"
      },
      "source": [
        "<a href=\"https://colab.research.google.com/github/kiru-44/Elevate-Labs-Internship/blob/main/student_mental_health.ipynb\" target=\"_parent\"><img src=\"https://colab.research.google.com/assets/colab-badge.svg\" alt=\"Open In Colab\"/></a>"
      ]
    },
    {
      "cell_type": "code",
      "source": [
        "import pandas as pd\n",
        "import numpy as np\n",
        "import matplotlib.pyplot as plt\n",
        "import seaborn as sns"
      ],
      "metadata": {
        "id": "u26THA88ZhBW"
      },
      "execution_count": 136,
      "outputs": []
    },
    {
      "cell_type": "code",
      "source": [
        "df = pd.read_csv(\"dataset.csv\")\n",
        "print(df.head())"
      ],
      "metadata": {
        "colab": {
          "base_uri": "https://localhost:8080/"
        },
        "id": "eIJe5X5RZg50",
        "outputId": "50b57644-2725-406a-f2e0-1a9b6df6fd34"
      },
      "execution_count": 137,
      "outputs": [
        {
          "output_type": "stream",
          "name": "stdout",
          "text": [
            "  Student_ID  Age Gender  Hours_Studied  Sleep_Hours Stress_Level  Exam_Score  \\\n",
            "0       S001   24   Male            3.5          6.5         High        69.9   \n",
            "1       S002   21  Other            0.4          6.3       Medium        46.4   \n",
            "2       S003   22  Other            3.5          5.1          Low        92.2   \n",
            "3       S004   24   Male            2.4          6.1         High        76.0   \n",
            "4       S005   20   Male            2.0          6.2          Low        43.3   \n",
            "\n",
            "  Part_of_Clubs Therapy_Seeking  Depression_Score  \n",
            "0            No              No               4.7  \n",
            "1           Yes              No               5.9  \n",
            "2            No             Yes               5.2  \n",
            "3            No             Yes               6.1  \n",
            "4            No              No               1.9  \n"
          ]
        }
      ]
    },
    {
      "cell_type": "code",
      "source": [
        "print(\"Shape:\", df.shape)"
      ],
      "metadata": {
        "colab": {
          "base_uri": "https://localhost:8080/"
        },
        "id": "bzuWj5iFZgw5",
        "outputId": "62791e0b-4d49-4fb9-8141-92b0edb8ce90"
      },
      "execution_count": 138,
      "outputs": [
        {
          "output_type": "stream",
          "name": "stdout",
          "text": [
            "Shape: (50, 10)\n"
          ]
        }
      ]
    },
    {
      "cell_type": "code",
      "source": [
        "print(df.info())"
      ],
      "metadata": {
        "colab": {
          "base_uri": "https://localhost:8080/"
        },
        "id": "hpwD9Z32ZgpH",
        "outputId": "a5091654-b128-450d-bd9c-6056f1ba2d71"
      },
      "execution_count": 139,
      "outputs": [
        {
          "output_type": "stream",
          "name": "stdout",
          "text": [
            "<class 'pandas.core.frame.DataFrame'>\n",
            "RangeIndex: 50 entries, 0 to 49\n",
            "Data columns (total 10 columns):\n",
            " #   Column            Non-Null Count  Dtype  \n",
            "---  ------            --------------  -----  \n",
            " 0   Student_ID        50 non-null     object \n",
            " 1   Age               50 non-null     int64  \n",
            " 2   Gender            47 non-null     object \n",
            " 3   Hours_Studied     47 non-null     float64\n",
            " 4   Sleep_Hours       47 non-null     float64\n",
            " 5   Stress_Level      50 non-null     object \n",
            " 6   Exam_Score        50 non-null     float64\n",
            " 7   Part_of_Clubs     50 non-null     object \n",
            " 8   Therapy_Seeking   50 non-null     object \n",
            " 9   Depression_Score  50 non-null     float64\n",
            "dtypes: float64(4), int64(1), object(5)\n",
            "memory usage: 4.0+ KB\n",
            "None\n"
          ]
        }
      ]
    },
    {
      "cell_type": "code",
      "source": [
        "print(df.describe())"
      ],
      "metadata": {
        "colab": {
          "base_uri": "https://localhost:8080/"
        },
        "id": "vvtbqjuCZgin",
        "outputId": "23c565aa-a725-40b5-c8ca-1eb8b63e3a20"
      },
      "execution_count": 140,
      "outputs": [
        {
          "output_type": "stream",
          "name": "stdout",
          "text": [
            "             Age  Hours_Studied  Sleep_Hours  Exam_Score  Depression_Score\n",
            "count  50.000000      47.000000    47.000000   50.000000         50.000000\n",
            "mean   21.280000       2.919149     6.382979   66.758000          3.994000\n",
            "std     1.852081       1.336712     0.962632   15.725023          2.114904\n",
            "min    18.000000      -0.900000     4.600000   41.800000          0.000000\n",
            "25%    20.000000       2.200000     5.600000   54.900000          2.225000\n",
            "50%    21.000000       3.100000     6.500000   67.050000          4.400000\n",
            "75%    23.000000       3.650000     6.850000   76.225000          5.575000\n",
            "max    24.000000       5.300000     8.700000  101.800000          7.700000\n"
          ]
        }
      ]
    },
    {
      "cell_type": "code",
      "source": [
        "print(df.isnull().sum())"
      ],
      "metadata": {
        "colab": {
          "base_uri": "https://localhost:8080/"
        },
        "id": "h3h0k5NbZgaL",
        "outputId": "6848bc81-3ebf-44c9-8883-b99278273494"
      },
      "execution_count": 141,
      "outputs": [
        {
          "output_type": "stream",
          "name": "stdout",
          "text": [
            "Student_ID          0\n",
            "Age                 0\n",
            "Gender              3\n",
            "Hours_Studied       3\n",
            "Sleep_Hours         3\n",
            "Stress_Level        0\n",
            "Exam_Score          0\n",
            "Part_of_Clubs       0\n",
            "Therapy_Seeking     0\n",
            "Depression_Score    0\n",
            "dtype: int64\n"
          ]
        }
      ]
    },
    {
      "cell_type": "code",
      "source": [
        "df['Hours_Studied'] = df['Hours_Studied'].fillna(df['Hours_Studied'].mean())"
      ],
      "metadata": {
        "id": "8Uqr83u9ZgSf"
      },
      "execution_count": 142,
      "outputs": []
    },
    {
      "cell_type": "markdown",
      "source": [],
      "metadata": {
        "id": "qi7OwAlAf6HI"
      }
    },
    {
      "cell_type": "code",
      "source": [
        "df['Sleep_Hours'] = df['Sleep_Hours'].fillna(df['Sleep_Hours'].median())"
      ],
      "metadata": {
        "id": "6lhgytVXkdC8"
      },
      "execution_count": 143,
      "outputs": []
    },
    {
      "cell_type": "markdown",
      "source": [],
      "metadata": {
        "id": "OFXb8myhkqLM"
      }
    },
    {
      "cell_type": "code",
      "source": [
        "df['Gender'] = df['Gender'].fillna(df['Gender'].mode()[0])"
      ],
      "metadata": {
        "id": "-CDdeq1cZgO4"
      },
      "execution_count": 144,
      "outputs": []
    },
    {
      "cell_type": "markdown",
      "source": [],
      "metadata": {
        "id": "H3Sag9AMf0rJ"
      }
    },
    {
      "cell_type": "code",
      "source": [
        "df['Part_of_Clubs'] = df['Part_of_Clubs'].map({'Yes': 1, 'No': 0})"
      ],
      "metadata": {
        "id": "v5c-GE8zZf-N"
      },
      "execution_count": 145,
      "outputs": []
    },
    {
      "cell_type": "code",
      "source": [
        "df['Therapy_Seeking'] = df['Therapy_Seeking'].map({'Yes': 1, 'No': 0})"
      ],
      "metadata": {
        "id": "_RwgmBNOZfzP"
      },
      "execution_count": 146,
      "outputs": []
    },
    {
      "cell_type": "markdown",
      "source": [],
      "metadata": {
        "id": "Q8yjrF2EiuhC"
      }
    },
    {
      "cell_type": "code",
      "source": [
        "df = pd.get_dummies(df, columns=['Gender', 'Stress_Level'], drop_first=True)"
      ],
      "metadata": {
        "id": "6c1rUmtjZfnl"
      },
      "execution_count": 147,
      "outputs": []
    },
    {
      "cell_type": "code",
      "source": [
        "from sklearn.preprocessing import StandardScaler\n",
        "\n",
        "scaler = StandardScaler()\n",
        "num_cols = ['Age', 'Hours_Studied', 'Sleep_Hours', 'Exam_Score', 'Depression_Score']\n",
        "df[num_cols] = scaler.fit_transform(df[num_cols])\n"
      ],
      "metadata": {
        "id": "tfqmlZfyZfcY"
      },
      "execution_count": 148,
      "outputs": []
    },
    {
      "cell_type": "code",
      "source": [
        "for col in num_cols:\n",
        "    sns.boxplot(x=df[col])\n",
        "    plt.title(f\"Boxplot of {col}\")\n",
        "    plt.show()\n"
      ],
      "metadata": {
        "colab": {
          "base_uri": "https://localhost:8080/",
          "height": 1000
        },
        "id": "aTrxzLfwZfQq",
        "outputId": "3b3f58a5-d53e-4ef9-8cdf-a506f73b7a31"
      },
      "execution_count": 149,
      "outputs": [
        {
          "output_type": "display_data",
          "data": {
            "text/plain": [
              "<Figure size 640x480 with 1 Axes>"
            ],
            "image/png": "[encoded data removed]"
          },
          "metadata": {}
        },
        {
          "output_type": "display_data",
          "data": {
            "text/plain": [
              "<Figure size 640x480 with 1 Axes>"
            ],
            "image/png": "[encoded data removed]"
          },
          "metadata": {}
        },
        {
          "output_type": "display_data",
          "data": {
            "text/plain": [
              "<Figure size 640x480 with 1 Axes>"
            ],
            "image/png": "[encoded data removed]"
          },
          "metadata": {}
        },
        {
          "output_type": "display_data",
          "data": {
            "text/plain": [
              "<Figure size 640x480 with 1 Axes>"
            ],
            "image/png": "[encoded data removed]"
          },
          "metadata": {}
        },
        {
          "output_type": "display_data",
          "data": {
            "text/plain": [
              "<Figure size 640x480 with 1 Axes>"
            ],
            "image/png": "[encoded data removed]"
          },
          "metadata": {}
        }
      ]
    },
    {
      "cell_type": "code",
      "source": [
        "for col in num_cols:\n",
        "    Q1 = df[col].quantile(0.25)\n",
        "    Q3 = df[col].quantile(0.75)\n",
        "    IQR = Q3 - Q1\n",
        "    df = df[(df[col] >= Q1 - 1.5 * IQR) & (df[col] <= Q3 + 1.5 * IQR)]\n"
      ],
      "metadata": {
        "id": "IWGiZaYzZe_b"
      },
      "execution_count": 151,
      "outputs": []
    },
    {
      "cell_type": "code",
      "source": [
        "print(df.info())\n",
        "print(df.head())\n"
      ],
      "metadata": {
        "colab": {
          "base_uri": "https://localhost:8080/"
        },
        "id": "tQo6vXUfwa4N",
        "outputId": "88c6fdab-33f6-4e66-85bb-ae069ec853be"
      },
      "execution_count": 152,
      "outputs": [
        {
          "output_type": "stream",
          "name": "stdout",
          "text": [
            "<class 'pandas.core.frame.DataFrame'>\n",
            "Index: 45 entries, 0 to 49\n",
            "Data columns (total 12 columns):\n",
            " #   Column               Non-Null Count  Dtype  \n",
            "---  ------               --------------  -----  \n",
            " 0   Student_ID           45 non-null     object \n",
            " 1   Age                  45 non-null     float64\n",
            " 2   Hours_Studied        45 non-null     float64\n",
            " 3   Sleep_Hours          45 non-null     float64\n",
            " 4   Exam_Score           45 non-null     float64\n",
            " 5   Part_of_Clubs        45 non-null     int64  \n",
            " 6   Therapy_Seeking      45 non-null     int64  \n",
            " 7   Depression_Score     45 non-null     float64\n",
            " 8   Gender_Male          45 non-null     bool   \n",
            " 9   Gender_Other         45 non-null     bool   \n",
            " 10  Stress_Level_Low     45 non-null     bool   \n",
            " 11  Stress_Level_Medium  45 non-null     bool   \n",
            "dtypes: bool(4), float64(5), int64(2), object(1)\n",
            "memory usage: 3.3+ KB\n",
            "None\n",
            "  Student_ID       Age  Hours_Studied  Sleep_Hours  Exam_Score  Part_of_Clubs  \\\n",
            "0       S001  1.483528       0.453036     0.119081    0.201837              0   \n",
            "2       S003  0.392699       0.453036    -1.396493    1.634357              0   \n",
            "3       S004  1.483528      -0.404912    -0.313940    0.593693              0   \n",
            "4       S005 -0.698131      -0.716893    -0.205685   -1.506908              0   \n",
            "5       S006  0.392699       0.765017    -0.746961   -0.022997              0   \n",
            "\n",
            "   Therapy_Seeking  Depression_Score  Gender_Male  Gender_Other  \\\n",
            "0                0          0.337210         True         False   \n",
            "2                1          0.576028        False          True   \n",
            "3                1          1.005900         True         False   \n",
            "4                0         -1.000168         True         False   \n",
            "5                1          0.193920        False          True   \n",
            "\n",
            "   Stress_Level_Low  Stress_Level_Medium  \n",
            "0             False                False  \n",
            "2              True                False  \n",
            "3             False                False  \n",
            "4              True                False  \n",
            "5             False                 True  \n"
          ]
        }
      ]
    }
  ]
}